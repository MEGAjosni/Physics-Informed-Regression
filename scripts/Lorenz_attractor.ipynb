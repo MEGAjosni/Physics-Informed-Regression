{
 "cells": [
  {
   "cell_type": "markdown",
   "id": "321171ab",
   "metadata": {},
   "source": [
    "# Instantiation of Julia environment"
   ]
  },
  {
   "cell_type": "code",
   "execution_count": 1,
   "id": "581f28e7",
   "metadata": {},
   "outputs": [
    {
     "name": "stderr",
     "output_type": "stream",
     "text": [
      "\u001b[32m\u001b[1m  Activating\u001b[22m\u001b[39m project at `c:\\Users\\Marcu\\OneDrive - Danmarks Tekniske Universitet\\DTU\\Physics-Informed-Regression`\n",
      "  0 dependencies successfully precompiled in 8 seconds. 517 already precompiled.\n"
     ]
    }
   ],
   "source": [
    "using Pkg\n",
    "Pkg.activate(\"..\") #Activate the project environment\n",
    "Pkg.instantiate() #Install the required packages    \n",
    "# Load the required packages\n",
    "using ModelingToolkit, DifferentialEquations, Plots"
   ]
  },
  {
   "cell_type": "markdown",
   "id": "9f04e27f",
   "metadata": {},
   "source": [
    "# Lorenz Attractor example\n",
    "The Lorenz Attractor is a system of ordinary differential equations that exhibits chaotic behavior. \n",
    "It is used to demonstrate the concept of chaos in dynamical systems, and is often included as a benchmark for numerical methods in scientific computing. The equations are defined as follows:"
   ]
  },
  {
   "cell_type": "code",
   "execution_count": 2,
   "id": "470290e3",
   "metadata": {},
   "outputs": [
    {
     "data": {
      "text/latex": [
       "$$ \\begin{align}\n",
       "\\frac{\\mathrm{d} x\\left( t \\right)}{\\mathrm{d}t} &= \\left(  - x\\left( t \\right) + y\\left( t \\right) \\right) \\sigma \\\\\n",
       "\\frac{\\mathrm{d} y\\left( t \\right)}{\\mathrm{d}t} &=  - y\\left( t \\right) + x\\left( t \\right) \\left(  - z\\left( t \\right) + \\rho \\right) \\\\\n",
       "\\frac{\\mathrm{d} z\\left( t \\right)}{\\mathrm{d}t} &= x\\left( t \\right) y\\left( t \\right) - z\\left( t \\right) \\beta\n",
       "\\end{align}\n",
       " $$"
      ],
      "text/plain": [
       "\u001b[0m\u001b[1mModel sys:\u001b[22m\n",
       "\u001b[0m\u001b[1mEquations (3):\u001b[22m\n",
       "  3 standard: see equations(sys)\n",
       "\u001b[0m\u001b[1mUnknowns (3):\u001b[22m see unknowns(sys)\n",
       "  x(t)\n",
       "  y(t)\n",
       "  z(t)\n",
       "\u001b[0m\u001b[1mParameters (3):\u001b[22m see parameters(sys)\n",
       "  ρ\n",
       "  β\n",
       "  σ"
      ]
     },
     "metadata": {},
     "output_type": "display_data"
    }
   ],
   "source": [
    "\n",
    "## LORENZ ATTRACTOR\n",
    "@parameters σ ρ β\n",
    "@independent_variables t\n",
    "@variables x(t) y(t) z(t)\n",
    "D = Differential(t)\n",
    "\n",
    "eqs = [D(x) ~ σ * (y - x),\n",
    "    D(y) ~ x * (ρ - z) - y,\n",
    "    D(z) ~ x * y - β * z]\n",
    "\n",
    "# Define the system\n",
    "@named sys = ODESystem(eqs, t)\n",
    "sys = complete(sys)"
   ]
  },
  {
   "cell_type": "markdown",
   "id": "2b3587b1",
   "metadata": {},
   "source": [
    "## Simulation Parameters\n",
    "\n",
    "The solution of the Lorenz system is sensitive to initial conditions, and small changes can lead to vastly different outcomes. The parameters used in the simulation are:\n",
    "$$\n",
    "\\sigma = 10, \\quad \\rho = 28, \\quad \\beta = \\frac{8}{3}\n",
    "$$\n",
    "with the initial conditions:\n",
    "$$\n",
    "x(0) = 1, \\quad y(0) = 1, \\quad z(0) = 1\n",
    "$$\n",
    "And the time span for the simulation is:\n",
    "$$\n",
    "t = [0, 100]\n",
    "$$\n",
    "Sampled at 0.01 intervals."
   ]
  },
  {
   "cell_type": "code",
   "execution_count": 3,
   "id": "53e2a283",
   "metadata": {},
   "outputs": [
    {
     "data": {
      "text/plain": [
       "retcode: Success\n",
       "Interpolation: 1st order linear\n",
       "t: 1001-element Vector{Float64}:\n",
       "  0.0\n",
       "  0.01\n",
       "  0.02\n",
       "  0.03\n",
       "  0.04\n",
       "  0.05\n",
       "  0.06\n",
       "  0.07\n",
       "  0.08\n",
       "  0.09\n",
       "  ⋮\n",
       "  9.92\n",
       "  9.93\n",
       "  9.94\n",
       "  9.95\n",
       "  9.96\n",
       "  9.97\n",
       "  9.98\n",
       "  9.99\n",
       " 10.0\n",
       "u: 1001-element Vector{Vector{Float64}}:\n",
       " [1.0, 0.0, 0.0]\n",
       " [0.9179244486277375, 0.26633998839581724, 0.001263896161024725]\n",
       " [0.8679193806275332, 0.5117405221648618, 0.004655448984590432]\n",
       " [0.8453600810426154, 0.7446542578853702, 0.009835866378811885]\n",
       " [0.8468056451055698, 0.9723322686163748, 0.016734529881783027]\n",
       " [0.8697858478632923, 1.2011328308689113, 0.02548624360802408]\n",
       " [0.9126414552179822, 1.4367663939445778, 0.036401157668566025]\n",
       " [0.9743847413599666, 1.6845201726739139, 0.0499584260367446]\n",
       " [1.0546231178436563, 1.9494049510744307, 0.06681568581595387]\n",
       " [1.1534564425090579, 2.236343236002593, 0.08784004081161305]\n",
       " ⋮\n",
       " [-6.5471439121022525, -4.737157124688209, 27.183649547015616]\n",
       " [-6.375263940266686, -4.75778129601343, 26.77106062867018]\n",
       " [-6.222969968077115, -4.801872175925832, 26.363803817154732]\n",
       " [-6.090652857482615, -4.866970455235634, 25.963665500182316]\n",
       " [-5.9781883933934346, -4.952542719072845, 25.57262738562671]\n",
       " [-5.885518603668082, -5.057756828252579, 25.1924901889762]\n",
       " [-5.812582310174795, -5.18153736395977, 24.82488146085445]\n",
       " [-5.759236010923454, -5.322968669636023, 24.471350272581184]\n",
       " [-5.725253880065562, -5.481294850979612, 24.133367216172136]"
      ]
     },
     "metadata": {},
     "output_type": "display_data"
    }
   ],
   "source": [
    "# Define the initial conditions and parameters\n",
    "u0 = [\n",
    "    x => 1.0,\n",
    "    y => 0.0,\n",
    "    z => 0.0]\n",
    "\n",
    "p = [σ => 10.0,\n",
    "    ρ => 28.0,\n",
    "    β => 8/3]\n",
    "\n",
    "# Define the time span\n",
    "timesteps = collect(0.0:0.01:10.0)\n",
    "\n",
    "# Simulate the system\n",
    "prob = ODEProblem(sys, u0,(timesteps[1], timesteps[end]) ,p, saveat = timesteps)\n",
    "sol = solve(prob)"
   ]
  },
  {
   "cell_type": "markdown",
   "id": "df88f4bf",
   "metadata": {},
   "source": [
    "# Physics Informed Regression (PIR)\n",
    "We proceed to illustrate the use of Physics Informed Regression (PIR) to solve the inverse problem of the Lorenz system. The goal is to recover the parameters $\\sigma$, $\\rho$, and $\\beta$ from the observed data. The PIR approach incorporates the governing equations of the system into the regression model, by rewriting the equations as linear system in terms of the parameters. The system and right hand side are given by:"
   ]
  },
  {
   "cell_type": "code",
   "execution_count": 4,
   "id": "a8e4950a",
   "metadata": {},
   "outputs": [
    {
     "data": {
      "text/latex": [
       "$A = \\begin{equation}\n",
       "\\left[\n",
       "\\begin{array}{ccc}\n",
       "0.0 & 0.0 &  - x\\left( t \\right) + y\\left( t \\right) \\\\\n",
       "x\\left( t \\right) & 0.0 & 0.0 \\\\\n",
       "0.0 &  - z\\left( t \\right) & 0.0 \\\\\n",
       "\\end{array}\n",
       "\\right]\n",
       "\\end{equation}\n",
       "$"
      ],
      "text/plain": [
       "L\"$A = \\begin{equation}\n",
       "\\left[\n",
       "\\begin{array}{ccc}\n",
       "0.0 & 0.0 &  - x\\left( t \\right) + y\\left( t \\right) \\\\\n",
       "x\\left( t \\right) & 0.0 & 0.0 \\\\\n",
       "0.0 &  - z\\left( t \\right) & 0.0 \\\\\n",
       "\\end{array}\n",
       "\\right]\n",
       "\\end{equation}\n",
       "$\""
      ]
     },
     "metadata": {},
     "output_type": "display_data"
    },
    {
     "data": {
      "text/latex": [
       "$b = \\begin{equation}\n",
       "\\left[\n",
       "\\begin{array}{c}\n",
       "\\frac{\\mathrm{d} x\\left( t \\right)}{\\mathrm{d}t} \\\\\n",
       "y\\left( t \\right) + \\frac{\\mathrm{d} y\\left( t \\right)}{\\mathrm{d}t} + x\\left( t \\right) z\\left( t \\right) \\\\\n",
       "\\frac{\\mathrm{d} z\\left( t \\right)}{\\mathrm{d}t} - x\\left( t \\right) y\\left( t \\right) \\\\\n",
       "\\end{array}\n",
       "\\right]\n",
       "\\end{equation}\n",
       "$"
      ],
      "text/plain": [
       "L\"$b = \\begin{equation}\n",
       "\\left[\n",
       "\\begin{array}{c}\n",
       "\\frac{\\mathrm{d} x\\left( t \\right)}{\\mathrm{d}t} \\\\\n",
       "y\\left( t \\right) + \\frac{\\mathrm{d} y\\left( t \\right)}{\\mathrm{d}t} + x\\left( t \\right) z\\left( t \\right) \\\\\n",
       "\\frac{\\mathrm{d} z\\left( t \\right)}{\\mathrm{d}t} - x\\left( t \\right) y\\left( t \\right) \\\\\n",
       "\\end{array}\n",
       "\\right]\n",
       "\\end{equation}\n",
       "$\""
      ]
     },
     "metadata": {},
     "output_type": "display_data"
    }
   ],
   "source": [
    "# Setup model for regression\n",
    "using Latexify\n",
    "using LaTeXStrings\n",
    "using PhysicsInformedRegression\n",
    "\n",
    "du_approx = PhysicsInformedRegression.finite_diff(sol.u, sol.t) #approximated derivatives\n",
    "A,b = PhysicsInformedRegression.setup_linear_system(sys)\n",
    "A_sym = latexify(A)\n",
    "b_sym = latexify(b)\n",
    "display(L\"A = %$A_sym\")\n",
    "display(L\"b = %$b_sym\")"
   ]
  },
  {
   "cell_type": "markdown",
   "id": "a00c08e8",
   "metadata": {},
   "source": [
    "Consequently, the Lorenz system can be expressed in matrix form as:\n",
    "$$\n",
    "\\begin{align*}\n",
    "A \\begin{bmatrix}\n",
    "    \\sigma \\\\\n",
    "    \\rho \\\\\n",
    "    \\beta\n",
    "    \\end{bmatrix} = b\n",
    "\\end{align*}\n",
    "$$\n",
    "where $A$ is the matrix of parameters and $b$ is the right-hand side vector. The goal is to find the parameters that minimize the residuals of the system, which can be formulated as a least squares problem. \n",
    "$$\n",
    "\\begin{align*}\n",
    "\\sigma^*, \\rho^*, \\beta^* &=\n",
    "\\min_{\\sigma, \\rho, \\beta} \\left\\| A \\begin{bmatrix}\n",
    "    \\sigma \\\\\n",
    "    \\rho \\\\\n",
    "    \\beta\n",
    "    \\end{bmatrix} - b \\right\\|^2\\\\\n",
    "    &= (A^T A)^{-1} A^T b\n",
    "\\end{align*}\n",
    "$$\n",
    "For the observed data, $A$ and $b$ are constructed and concatenated for all observations. The results of the yields the following estimates of the parameters $\\sigma^*, \\rho^*, \\beta^*$:"
   ]
  },
  {
   "cell_type": "code",
   "execution_count": null,
   "id": "e0c4da24",
   "metadata": {},
   "outputs": [],
   "source": [
    "# Estimate the parameters\n",
    "paramsest = PhysicsInformedRegression.physics_informed_regression(sys, sol.u, du_approx, A, b)\n",
    "\n",
    "#compare the estimated parameters to the true parameters\n",
    "parameterdict = Dict(p)\n",
    "for (i, param) in enumerate(parameters(sys))\n",
    "    println(\"Parameter $(param) = $(parameterdict[param]) estimated as $(paramsest[param])\")\n",
    "end"
   ]
  },
  {
   "cell_type": "markdown",
   "id": "bc745084",
   "metadata": {},
   "source": [
    "## Illustration of the recovered system\n",
    "The simulation is run with the recovered parameters, and the results are compared to the original system. The solution is plotted to visualize the accuracy of the recovery. The recovered parameters are expected to be close to the original parameters, and the solution should exhibit similar behavior to the original system."
   ]
  },
  {
   "cell_type": "code",
   "execution_count": null,
   "id": "7bc8932a",
   "metadata": {},
   "outputs": [],
   "source": [
    "sol_est = solve(ODEProblem(sys, u0,(timesteps[1], timesteps[end]) ,paramsest), Tsit5(), saveat = timesteps)\n",
    "p1 = plot(sol,label = \"True\", title = \"Lorenz Attractor\", lw = 2, dpi = 600, idxs = (1,2,3))\n",
    "plot!(p1, sol_est, label = \"Estimated\", lw = 1, ls = :dash, dpi = 600, idxs = (1,2,3))\n",
    "#savefig(\"../plots/Lorenz.png\")\n",
    "display(p1)"
   ]
  },
  {
   "cell_type": "markdown",
   "id": "0b460680",
   "metadata": {},
   "source": [
    "# Evaluating the results\n",
    "The parameters are recovered once again for different levels of noise in the data, and for a different amount of collocation points. The results are compared to the original parameters, and the relative error is computed for each estimate. The relative error is defined as:\n",
    "$$\n",
    "\\text{Relative Error} = \\frac{\\left| \\text{Estimated Parameter} - \\text{True Parameter} \\right|}{\\left| \\text{True Parameter} \\right|}\n",
    "$$\n"
   ]
  },
  {
   "cell_type": "code",
   "execution_count": null,
   "id": "68fd7a05",
   "metadata": {},
   "outputs": [],
   "source": [
    "include(\"../utils/julia_utils.jl\")\n",
    "export create_table, noise_v_collocation_points\n",
    "\n",
    "noise_vals = [0.0, 0.01, 0.05, 0.1]\n",
    "n_data_points = [5, 10, 50, 100]\n",
    "n_iter = 20\n",
    "rel_error_ests = noise_v_collocation_points(sys, sol, noise_vals, n_data_points, n_iter, Dict(p))"
   ]
  },
  {
   "cell_type": "code",
   "execution_count": null,
   "id": "5c11e161",
   "metadata": {},
   "outputs": [],
   "source": [
    "rel_error_ests"
   ]
  },
  {
   "cell_type": "markdown",
   "id": "d09dfcbb",
   "metadata": {},
   "source": [
    "### $\\sigma$ relative errors"
   ]
  },
  {
   "cell_type": "code",
   "execution_count": null,
   "id": "aa9971b2",
   "metadata": {},
   "outputs": [],
   "source": [
    "using DataFrames\n",
    "σ_rel_errors = create_table(param_ests; parameter_idx = 1)\n"
   ]
  },
  {
   "cell_type": "markdown",
   "id": "09ae8d0f",
   "metadata": {},
   "source": [
    "### $\\rho$ relative errors"
   ]
  },
  {
   "cell_type": "code",
   "execution_count": null,
   "id": "ac66166d",
   "metadata": {},
   "outputs": [],
   "source": [
    "ρ_rel_errors = create_table(param_ests; parameter_idx = 2)\n"
   ]
  },
  {
   "cell_type": "markdown",
   "id": "80834ca5",
   "metadata": {},
   "source": [
    "### $\\beta$ relative errors"
   ]
  },
  {
   "cell_type": "code",
   "execution_count": null,
   "id": "7a3e8b69",
   "metadata": {},
   "outputs": [],
   "source": [
    "β_rel_errors = create_table(param_ests; parameter_idx = 3)"
   ]
  }
 ],
 "metadata": {
  "kernelspec": {
   "display_name": "Julia 1.11.5",
   "language": "julia",
   "name": "julia-1.11"
  },
  "language_info": {
   "file_extension": ".jl",
   "mimetype": "application/julia",
   "name": "julia",
   "version": "1.11.5"
  }
 },
 "nbformat": 4,
 "nbformat_minor": 5
}
