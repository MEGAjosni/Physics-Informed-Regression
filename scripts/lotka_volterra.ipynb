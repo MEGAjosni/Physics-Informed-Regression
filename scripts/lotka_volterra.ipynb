{
 "cells": [
  {
   "cell_type": "code",
   "execution_count": null,
   "id": "dcc78f7c",
   "metadata": {},
   "outputs": [],
   "source": [
    "using Pkg\n",
    "Pkg.activate(\".\")\n",
    "Pkg.status()"
   ]
  },
  {
   "cell_type": "code",
   "execution_count": null,
   "id": "70723f2f",
   "metadata": {},
   "outputs": [],
   "source": [
    "using ModelingToolkit\n",
    "using DifferentialEquations\n",
    "#using Interpolations\n",
    "using PhysicsInformedRegression"
   ]
  },
  {
   "cell_type": "markdown",
   "id": "aa89e01d",
   "metadata": {},
   "source": [
    "# Lotka-Volterra model for predator-prey dynamics\n",
    "The Lotka-Volterra equations describe the dynamics of predator-prey interactions in an ecosystem. The model consists of two differential equations that represent the growth of prey and the growth of predators based on the availability of prey.\n",
    "\n",
    "$$\n",
    "\\begin{align*}\n",
    "\\frac{dx}{dt} &= \\alpha x - \\beta xy \\\\\n",
    "\\frac{dy}{dt} &= \\delta xy - \\gamma y\n",
    "\\end{align*}\n",
    "$$\n",
    "\n",
    "Where: \n",
    "- $x$ is the prey population (e.g., rabbits)\n",
    "- $y$ is the predator population (e.g., foxes)\n",
    "- $\\alpha$ is the growth rate of prey\n",
    "- $\\beta$ is the rate of predation (how many prey are consumed by predators)\n",
    "- $\\delta$ is the growth rate of predators per prey consumed\n",
    "- $\\gamma$ is the natural death rate of predators\n"
   ]
  },
  {
   "cell_type": "markdown",
   "id": "776a8350",
   "metadata": {},
   "source": [
    "## Model setup in Julia\n",
    "In julia we choose to use the ([DifferentialEquations.jl](https://diffeq.sciml.ai/stable/) package) to represent the Lotka-Volterra model. The following defined the symbolic parameters and the system of equations."
   ]
  },
  {
   "cell_type": "code",
   "execution_count": null,
   "id": "89bdbff8",
   "metadata": {},
   "outputs": [],
   "source": [
    "\n",
    "## LOTKA VOLTERA\n",
    "@parameters α β γ δ\n",
    "@variables t x(t) y(t)\n",
    "D = Differential(t)\n",
    "eqs = [D(x) ~ α*x - β*x*y,\n",
    "    D(y) ~ -γ*y + δ*x*y]\n",
    "\n",
    "\n",
    "# Define the system\n",
    "@named sys = ODESystem(eqs, t)\n",
    "sys = complete(sys)"
   ]
  },
  {
   "cell_type": "markdown",
   "id": "ce980ec8",
   "metadata": {},
   "source": [
    "# Simulation setup\n",
    "We choose the following parameters for the simulation:\n",
    "\n",
    "* $\\alpha = 1.5$  # Growth rate of prey\n",
    "* $\\beta = 1.0$  # Rate of predation\n",
    "* $\\delta = 3.0$  # Growth rate of predators per prey consumed\n",
    "* $\\gamma = 1.0$  # Natural death rate of predators\n",
    "\n",
    "aswell as the initial conditions:\n",
    "* $x_0 = 1,0$  # Initial prey population\n",
    "* $y_0 = 0.5$  # Initial predator population\n",
    "\n",
    "And simulate the system over a time span of $t = 0$ to $t = 10$ with $1000$ uniform time steps.\n"
   ]
  },
  {
   "cell_type": "code",
   "execution_count": null,
   "id": "a2dd594e",
   "metadata": {},
   "outputs": [],
   "source": [
    "# Define the initial conditions and parameters\n",
    "u0 = [x => 1.0,\n",
    "    y => 1.0]\n",
    "\n",
    "p = [α => 1.5,\n",
    "    β => 1.0,\n",
    "    γ => 3.0,\n",
    "    δ => 1.0]\n",
    "\n",
    "# Define the time span\n",
    "start = 0; stop = 10; len = 1000 \n",
    "timesteps = collect(range(start, stop, length = len))\n",
    "\n",
    "# Simulate the system\n",
    "prob = ODEProblem(sys, u0,(timesteps[1], timesteps[end]) ,p, saveat = timesteps)\n",
    "sol = solve(prob)\n",
    "\n",
    "# Compute the derivatives\n",
    "du_approx =  PhysicsInformedRegression.finite_diff(sol.u, sol.t)\n"
   ]
  },
  {
   "cell_type": "code",
   "execution_count": null,
   "id": "d493885d",
   "metadata": {},
   "outputs": [],
   "source": [
    "paramsest = PhysicsInformedRegression.physics_informed_regression(sys, sol.u, du_approx)\n",
    "\n",
    "#compare the estimated parameters to the true parameters\n",
    "parameterdict = Dict(p)\n",
    "for (i, param) in enumerate(parameters(sys))\n",
    "    println(\"Parameter $(param) = $(parameterdict[param]) estimated as $(paramsest[param])\")\n",
    "end"
   ]
  },
  {
   "cell_type": "code",
   "execution_count": null,
   "id": "294d34e0",
   "metadata": {},
   "outputs": [],
   "source": [
    "# Plot the results\n",
    "using Plots\n",
    "estimated_sol = solve(ODEProblem(sys, u0,(start, stop) ,paramsest), Tsit5(), saveat = timesteps)\n",
    "plot(sol, label = [\"x\" \"y\"], title = \"Lotka Volterra\", lw = 2, dpi = 600)\n",
    "plot!(estimated_sol, label = [\"x_est\" \"y_est\"], lw = 2, ls = :dash, dpi = 600)"
   ]
  }
 ],
 "metadata": {
  "kernelspec": {
   "display_name": "Julia 1.11.5",
   "language": "julia",
   "name": "julia-1.11"
  },
  "language_info": {
   "file_extension": ".jl",
   "mimetype": "application/julia",
   "name": "julia",
   "version": "1.11.5"
  }
 },
 "nbformat": 4,
 "nbformat_minor": 5
}
